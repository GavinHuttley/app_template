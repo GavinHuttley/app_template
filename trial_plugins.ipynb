{
 "cells": [
  {
   "cell_type": "markdown",
   "metadata": {},
   "source": [
    "# See the app\n",
    "\n",
    "In the following you should se a new app called to_uppercase.  If you don't see it check the instructions in README.md which contains instructions for installing a new app."
   ]
  },
  {
   "cell_type": "code",
   "execution_count": 4,
   "metadata": {},
   "outputs": [
    {
     "ename": "AttributeError",
     "evalue": "module 'cogent3' has no attribute '__version__'",
     "output_type": "error",
     "traceback": [
      "\u001b[1;31m---------------------------------------------------------------------------\u001b[0m",
      "\u001b[1;31mAttributeError\u001b[0m                            Traceback (most recent call last)",
      "Cell \u001b[1;32mIn[4], line 2\u001b[0m\n\u001b[0;32m      1\u001b[0m \u001b[38;5;28;01mimport\u001b[39;00m \u001b[38;5;21;01mcogent3\u001b[39;00m\n\u001b[1;32m----> 2\u001b[0m \u001b[43mcogent3\u001b[49m\u001b[38;5;241;43m.\u001b[39;49m\u001b[43m__version__\u001b[49m\n",
      "\u001b[1;31mAttributeError\u001b[0m: module 'cogent3' has no attribute '__version__'"
     ]
    }
   ],
   "source": [
    "import cogent3\n",
    "cogent3.__version__\n"
   ]
  },
  {
   "cell_type": "markdown",
   "metadata": {},
   "source": [
    "# Test the app\n",
    "\n",
    "Here you are just making sure the app works as you expect.  You should still use pyTests for your project that probe cogent3's ability to load and use your app as expected."
   ]
  },
  {
   "cell_type": "code",
   "execution_count": 6,
   "metadata": {},
   "outputs": [
    {
     "name": "stdout",
     "output_type": "stream",
     "text": [
      "HELLO WORLD\n"
     ]
    }
   ],
   "source": [
    "appercase = get_app('to_upper')\n",
    "print(appercase('hello world'))"
   ]
  },
  {
   "cell_type": "markdown",
   "metadata": {},
   "source": [
    "# Check it's documentation\n",
    "You should see the documentation for this app given to cogent3 users"
   ]
  },
  {
   "cell_type": "code",
   "execution_count": 5,
   "metadata": {},
   "outputs": [
    {
     "name": "stdout",
     "output_type": "stream",
     "text": [
      "Options for making the app\n",
      "--------------------------\n",
      "to_upper_app = get_app(\"to_upper\", *args, **kwargs)\n",
      "\n",
      "Initialize self.  See help(type(self)) for accurate signature.\n",
      "\n",
      "Input type\n",
      "----------\n",
      "str\n",
      "\n",
      "Output type\n",
      "-----------\n",
      "str\n"
     ]
    }
   ],
   "source": [
    "app_help('to_upper')"
   ]
  }
 ],
 "metadata": {
  "kernelspec": {
   "display_name": "venv",
   "language": "python",
   "name": "python3"
  },
  "language_info": {
   "codemirror_mode": {
    "name": "ipython",
    "version": 3
   },
   "file_extension": ".py",
   "mimetype": "text/x-python",
   "name": "python",
   "nbconvert_exporter": "python",
   "pygments_lexer": "ipython3",
   "version": "3.10.5"
  }
 },
 "nbformat": 4,
 "nbformat_minor": 2
}
