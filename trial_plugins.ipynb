{
 "cells": [
  {
   "cell_type": "code",
   "execution_count": 1,
   "metadata": {},
   "outputs": [
    {
     "data": {
      "text/html": [
       "\n",
       "<div class=\"c3table\">\n",
       "\n",
       "<style>\n",
       ".c3table table {margin: 10px 0;}\n",
       ".c3table tr:last-child {border-bottom: 1px solid #000;} \n",
       ".c3table tr > th {text-align: left; padding: 0 5px;}\n",
       ".c3table tr > td {text-align: left; padding: 5px;}\n",
       ".c3table tr:nth-child(even) {background: #f7f7f7 !important;}\n",
       ".c3table .ellipsis {background: rgba(0, 0, 0, .01);}\n",
       ".c3table .index {background: rgba(161, 195, 209, 0.0); margin: 10px; font-weight: 600;}\n",
       ".c3table .head_cell {background: rgba(161, 195, 209, 0.75); font-weight: bold; text-align: center;}\n",
       ".c3table caption {color: rgb(250, 250, 250); background: rgba(30, 140, 200, 1); padding: 3px; white-space: nowrap; caption-side: top;}\n",
       ".c3table .cell_title {font-weight: bold;}\n",
       ".c3col_left { text-align: left !important; display: block;}\n",
       ".c3col_right { text-align: right !important; display: block;}\n",
       ".c3col_center { text-align: center !important; display: block;}\n",
       "</style>\n",
       "\n",
       "<table>\n",
       "\n",
       "<thead class=\"head_cell\">\n",
       "<th>module</th><th>name</th><th>composable</th><th>doc</th><th>input type</th><th>output type</th>\n",
       "</thead>\n",
       "<tbody>\n",
       "<tr><td><span class=\"c3col_left\">cogent3.app.align</span></td><td><span class=\"c3col_left\">align_to_ref</span></td><td><span class=\"c3col_left\">True</span></td><td><span class=\"c3col_left\">Aligns sequences to a nominated reference in the unaligned collection.</span></td><td><span class=\"c3col_left\">SequenceCollection</span></td><td><span class=\"c3col_left\">Alignment, ArrayAlignment, SerialisableType</span></td></tr>\n",
       "<tr><td><span class=\"c3col_left\">cogent3.app.io</span></td><td><span class=\"c3col_left\">to_json</span></td><td><span class=\"c3col_left\">True</span></td><td><span class=\"c3col_left\">Convert primitive python types to json string.</span></td><td><span class=\"c3col_left\">SerialisableType</span></td><td><span class=\"c3col_left\">str</span></td></tr>\n",
       "<tr><td><span class=\"c3col_left\">cogent3.app.io</span></td><td><span class=\"c3col_left\">to_primitive</span></td><td><span class=\"c3col_left\">True</span></td><td><span class=\"c3col_left\">convert an object to primitive python types suitable for serialisation</span></td><td><span class=\"c3col_left\">SerialisableType</span></td><td><span class=\"c3col_left\">SerialisableType</span></td></tr>\n",
       "<tr><td><span class=\"c3col_left\">uppercase</span></td><td><span class=\"c3col_left\">to_upper</span></td><td><span class=\"c3col_left\">True</span></td><td><span class=\"c3col_left\"></span></td><td><span class=\"c3col_left\">str</span></td><td><span class=\"c3col_left\">str</span></td></tr>\n",
       "</tbody>\n",
       "</table>\n",
       "<p>\n",
       "4 rows x 6 columns</p>\n",
       "</div>"
      ],
      "text/plain": [
       "==============================================================================================================================================================================================\n",
       "module               name            composable    doc                                                                       input type            output type                                \n",
       "----------------------------------------------------------------------------------------------------------------------------------------------------------------------------------------------\n",
       "cogent3.app.align    align_to_ref    True          Aligns sequences to a nominated reference in the unaligned collection.    SequenceCollection    Alignment, ArrayAlignment, SerialisableType\n",
       "cogent3.app.io       to_json         True          Convert primitive python types to json string.                            SerialisableType      str                                        \n",
       "cogent3.app.io       to_primitive    True          convert an object to primitive python types suitable for serialisation    SerialisableType      SerialisableType                           \n",
       "uppercase            to_upper        True                                                                                    str                   str                                        \n",
       "----------------------------------------------------------------------------------------------------------------------------------------------------------------------------------------------\n",
       "\n",
       "4 rows x 6 columns"
      ]
     },
     "execution_count": 1,
     "metadata": {},
     "output_type": "execute_result"
    }
   ],
   "source": [
    "from cogent3 import get_app, available_apps, app_help\n",
    "available_apps('to_')\n"
   ]
  },
  {
   "cell_type": "code",
   "execution_count": 3,
   "metadata": {},
   "outputs": [
    {
     "name": "stdout",
     "output_type": "stream",
     "text": [
      "HELLO WORLD\n"
     ]
    }
   ],
   "source": [
    "from stevedore import ExtensionManager\n",
    "names = ExtensionManager(namespace=\"cogent3.app\", invoke_on_load=False).names()\n",
    "if 'to_upper' in names:\n",
    "    app = get_app('to_upper')\n",
    "    print(app('hello world'))\n",
    "else:\n",
    "    print('to_upper not available')"
   ]
  },
  {
   "cell_type": "code",
   "execution_count": 6,
   "metadata": {},
   "outputs": [
    {
     "name": "stdout",
     "output_type": "stream",
     "text": [
      "align_to_ref\n",
      "to_json\n",
      "to_primitive\n",
      "to_upper\n"
     ]
    }
   ],
   "source": [
    "from pkg_resources import iter_entry_points\n",
    "\n",
    "for ep in iter_entry_points(group='cogent3.app'):\n",
    "    if 'to_' in ep.name:\n",
    "        print(ep.name)"
   ]
  },
  {
   "cell_type": "code",
   "execution_count": 5,
   "metadata": {},
   "outputs": [
    {
     "ename": "TypeError",
     "evalue": "too many positional arguments",
     "output_type": "error",
     "traceback": [
      "\u001b[1;31m---------------------------------------------------------------------------\u001b[0m",
      "\u001b[1;31mTypeError\u001b[0m                                 Traceback (most recent call last)",
      "Cell \u001b[1;32mIn[5], line 5\u001b[0m\n\u001b[0;32m      3\u001b[0m mgr \u001b[38;5;241m=\u001b[39m ExtensionManager(namespace\u001b[38;5;241m=\u001b[39m\u001b[38;5;124m'\u001b[39m\u001b[38;5;124mcogent3.app\u001b[39m\u001b[38;5;124m'\u001b[39m)\n\u001b[0;32m      4\u001b[0m to_upper \u001b[38;5;241m=\u001b[39m mgr[\u001b[38;5;124m'\u001b[39m\u001b[38;5;124mto_upper\u001b[39m\u001b[38;5;124m'\u001b[39m]\u001b[38;5;241m.\u001b[39mplugin\n\u001b[1;32m----> 5\u001b[0m \u001b[38;5;28mprint\u001b[39m(\u001b[43mto_upper\u001b[49m\u001b[43m(\u001b[49m\u001b[38;5;124;43m'\u001b[39;49m\u001b[38;5;124;43mhello world\u001b[39;49m\u001b[38;5;124;43m'\u001b[39;49m\u001b[43m)\u001b[49m)\n",
      "File \u001b[1;32mD:\\khiron\\cogent3-plugin\\cogent3\\src\\cogent3\\app\\composable.py:260\u001b[0m, in \u001b[0;36m_new\u001b[1;34m(klass, *args, **kwargs)\u001b[0m\n\u001b[0;32m    258\u001b[0m     params \u001b[38;5;241m=\u001b[39m klass\u001b[38;5;241m.\u001b[39m_func_sig\u001b[38;5;241m.\u001b[39mparameters\n\u001b[0;32m    259\u001b[0m     init_sig \u001b[38;5;241m=\u001b[39m inspect\u001b[38;5;241m.\u001b[39mSignature(parameters\u001b[38;5;241m=\u001b[39m\u001b[38;5;28mlist\u001b[39m(params\u001b[38;5;241m.\u001b[39mvalues())[\u001b[38;5;241m1\u001b[39m:])\n\u001b[1;32m--> 260\u001b[0m     bargs \u001b[38;5;241m=\u001b[39m init_sig\u001b[38;5;241m.\u001b[39mbind_partial(\u001b[38;5;241m*\u001b[39margs, \u001b[38;5;241m*\u001b[39m\u001b[38;5;241m*\u001b[39mkwargs)\n\u001b[0;32m    261\u001b[0m \u001b[38;5;28;01melse\u001b[39;00m:\n\u001b[0;32m    262\u001b[0m     init_sig \u001b[38;5;241m=\u001b[39m inspect\u001b[38;5;241m.\u001b[39msignature(klass\u001b[38;5;241m.\u001b[39m\u001b[38;5;21m__init__\u001b[39m)\n",
      "File \u001b[1;32mc:\\Users\\Richard\\AppData\\Local\\Programs\\Python\\Python310\\lib\\inspect.py:3186\u001b[0m, in \u001b[0;36mSignature.bind_partial\u001b[1;34m(self, *args, **kwargs)\u001b[0m\n\u001b[0;32m   3181\u001b[0m \u001b[38;5;28;01mdef\u001b[39;00m \u001b[38;5;21mbind_partial\u001b[39m(\u001b[38;5;28mself\u001b[39m, \u001b[38;5;241m/\u001b[39m, \u001b[38;5;241m*\u001b[39margs, \u001b[38;5;241m*\u001b[39m\u001b[38;5;241m*\u001b[39mkwargs):\n\u001b[0;32m   3182\u001b[0m \u001b[38;5;250m    \u001b[39m\u001b[38;5;124;03m\"\"\"Get a BoundArguments object, that partially maps the\u001b[39;00m\n\u001b[0;32m   3183\u001b[0m \u001b[38;5;124;03m    passed `args` and `kwargs` to the function's signature.\u001b[39;00m\n\u001b[0;32m   3184\u001b[0m \u001b[38;5;124;03m    Raises `TypeError` if the passed arguments can not be bound.\u001b[39;00m\n\u001b[0;32m   3185\u001b[0m \u001b[38;5;124;03m    \"\"\"\u001b[39;00m\n\u001b[1;32m-> 3186\u001b[0m     \u001b[38;5;28;01mreturn\u001b[39;00m \u001b[38;5;28;43mself\u001b[39;49m\u001b[38;5;241;43m.\u001b[39;49m\u001b[43m_bind\u001b[49m\u001b[43m(\u001b[49m\u001b[43margs\u001b[49m\u001b[43m,\u001b[49m\u001b[43m \u001b[49m\u001b[43mkwargs\u001b[49m\u001b[43m,\u001b[49m\u001b[43m \u001b[49m\u001b[43mpartial\u001b[49m\u001b[38;5;241;43m=\u001b[39;49m\u001b[38;5;28;43;01mTrue\u001b[39;49;00m\u001b[43m)\u001b[49m\n",
      "File \u001b[1;32mc:\\Users\\Richard\\AppData\\Local\\Programs\\Python\\Python310\\lib\\inspect.py:3100\u001b[0m, in \u001b[0;36mSignature._bind\u001b[1;34m(self, args, kwargs, partial)\u001b[0m\n\u001b[0;32m   3098\u001b[0m     param \u001b[38;5;241m=\u001b[39m \u001b[38;5;28mnext\u001b[39m(parameters)\n\u001b[0;32m   3099\u001b[0m \u001b[38;5;28;01mexcept\u001b[39;00m \u001b[38;5;167;01mStopIteration\u001b[39;00m:\n\u001b[1;32m-> 3100\u001b[0m     \u001b[38;5;28;01mraise\u001b[39;00m \u001b[38;5;167;01mTypeError\u001b[39;00m(\u001b[38;5;124m'\u001b[39m\u001b[38;5;124mtoo many positional arguments\u001b[39m\u001b[38;5;124m'\u001b[39m) \u001b[38;5;28;01mfrom\u001b[39;00m \u001b[38;5;28;01mNone\u001b[39;00m\n\u001b[0;32m   3101\u001b[0m \u001b[38;5;28;01melse\u001b[39;00m:\n\u001b[0;32m   3102\u001b[0m     \u001b[38;5;28;01mif\u001b[39;00m param\u001b[38;5;241m.\u001b[39mkind \u001b[38;5;129;01min\u001b[39;00m (_VAR_KEYWORD, _KEYWORD_ONLY):\n\u001b[0;32m   3103\u001b[0m         \u001b[38;5;66;03m# Looks like we have no parameter for this positional\u001b[39;00m\n\u001b[0;32m   3104\u001b[0m         \u001b[38;5;66;03m# argument\u001b[39;00m\n",
      "\u001b[1;31mTypeError\u001b[0m: too many positional arguments"
     ]
    }
   ],
   "source": [
    "from stevedore import ExtensionManager\n",
    "\n",
    "mgr = ExtensionManager(namespace='cogent3.app')\n",
    "to_upper = mgr['to_upper'].plugin\n",
    "print(to_upper('hello world'))"
   ]
  }
 ],
 "metadata": {
  "kernelspec": {
   "display_name": "venv",
   "language": "python",
   "name": "python3"
  },
  "language_info": {
   "codemirror_mode": {
    "name": "ipython",
    "version": 3
   },
   "file_extension": ".py",
   "mimetype": "text/x-python",
   "name": "python",
   "nbconvert_exporter": "python",
   "pygments_lexer": "ipython3",
   "version": "3.10.5"
  }
 },
 "nbformat": 4,
 "nbformat_minor": 2
}
